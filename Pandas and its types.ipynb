{
 "cells": [
  {
   "cell_type": "markdown",
   "metadata": {},
   "source": [
    "# Install dependencies\n",
    "Install Pandas if note present (ignore any errors)"
   ]
  },
  {
   "cell_type": "code",
   "execution_count": 5,
   "metadata": {},
   "outputs": [
    {
     "name": "stdout",
     "output_type": "stream",
     "text": [
      "Requirement already satisfied: pandas in c:\\apps\\anaconda3\\envs\\acloudguru-course\\lib\\site-packages (1.0.3)\n",
      "Requirement already satisfied: numpy>=1.13.3 in c:\\apps\\anaconda3\\envs\\acloudguru-course\\lib\\site-packages (from pandas) (1.18.2)\n",
      "Requirement already satisfied: pytz>=2017.2 in c:\\apps\\anaconda3\\envs\\acloudguru-course\\lib\\site-packages (from pandas) (2019.3)\n",
      "Requirement already satisfied: python-dateutil>=2.6.1 in c:\\apps\\anaconda3\\envs\\acloudguru-course\\lib\\site-packages (from pandas) (2.8.1)\n",
      "Requirement already satisfied: six>=1.5 in c:\\apps\\anaconda3\\envs\\acloudguru-course\\lib\\site-packages (from python-dateutil>=2.6.1->pandas) (1.14.0)\n",
      "Note: you may need to restart the kernel to use updated packages.\n"
     ]
    }
   ],
   "source": [
    "pip install pandas"
   ]
  },
  {
   "cell_type": "markdown",
   "metadata": {},
   "source": [
    "# Run script\n",
    "Now we can run our script"
   ]
  },
  {
   "cell_type": "code",
   "execution_count": 10,
   "metadata": {},
   "outputs": [],
   "source": [
    "import numpy as np\n",
    "import pandas as pd"
   ]
  },
  {
   "cell_type": "code",
   "execution_count": 14,
   "metadata": {},
   "outputs": [],
   "source": [
    "# Create a 3x3 matrix with values spanning into [0,9) interval\n",
    "data = np.reshape( np.arange(9), (3,3))"
   ]
  },
  {
   "cell_type": "code",
   "execution_count": 16,
   "metadata": {},
   "outputs": [],
   "source": [
    "# Create a pandas' dataframe from the matrix\n",
    "df1 = pd.DataFrame(data)"
   ]
  },
  {
   "cell_type": "code",
   "execution_count": 31,
   "metadata": {},
   "outputs": [
    {
     "data": {
      "text/html": [
       "<div>\n",
       "<style scoped>\n",
       "    .dataframe tbody tr th:only-of-type {\n",
       "        vertical-align: middle;\n",
       "    }\n",
       "\n",
       "    .dataframe tbody tr th {\n",
       "        vertical-align: top;\n",
       "    }\n",
       "\n",
       "    .dataframe thead th {\n",
       "        text-align: right;\n",
       "    }\n",
       "</style>\n",
       "<table border=\"1\" class=\"dataframe\">\n",
       "  <thead>\n",
       "    <tr style=\"text-align: right;\">\n",
       "      <th></th>\n",
       "      <th>A</th>\n",
       "      <th>B</th>\n",
       "      <th>C</th>\n",
       "    </tr>\n",
       "  </thead>\n",
       "  <tbody>\n",
       "    <tr>\n",
       "      <th>first</th>\n",
       "      <td>0</td>\n",
       "      <td>1</td>\n",
       "      <td>2</td>\n",
       "    </tr>\n",
       "    <tr>\n",
       "      <th>second</th>\n",
       "      <td>3</td>\n",
       "      <td>4</td>\n",
       "      <td>5</td>\n",
       "    </tr>\n",
       "    <tr>\n",
       "      <th>third</th>\n",
       "      <td>6</td>\n",
       "      <td>7</td>\n",
       "      <td>8</td>\n",
       "    </tr>\n",
       "  </tbody>\n",
       "</table>\n",
       "</div>"
      ],
      "text/plain": [
       "        A  B  C\n",
       "first   0  1  2\n",
       "second  3  4  5\n",
       "third   6  7  8"
      ]
     },
     "execution_count": 31,
     "metadata": {},
     "output_type": "execute_result"
    }
   ],
   "source": [
    "# Change columns' labels\n",
    "df1.columns = [\"A\",\"B\",\"C\"]\n",
    "# Change rows' labels\n",
    "df1.index = [\"first\", \"second\", \"third\"]\n",
    "df1"
   ]
  },
  {
   "cell_type": "code",
   "execution_count": 38,
   "metadata": {},
   "outputs": [
    {
     "data": {
      "text/html": [
       "<div>\n",
       "<style scoped>\n",
       "    .dataframe tbody tr th:only-of-type {\n",
       "        vertical-align: middle;\n",
       "    }\n",
       "\n",
       "    .dataframe tbody tr th {\n",
       "        vertical-align: top;\n",
       "    }\n",
       "\n",
       "    .dataframe thead th {\n",
       "        text-align: right;\n",
       "    }\n",
       "</style>\n",
       "<table border=\"1\" class=\"dataframe\">\n",
       "  <thead>\n",
       "    <tr style=\"text-align: right;\">\n",
       "      <th></th>\n",
       "      <th>D</th>\n",
       "      <th>E</th>\n",
       "      <th>F</th>\n",
       "    </tr>\n",
       "  </thead>\n",
       "  <tbody>\n",
       "    <tr>\n",
       "      <th>first</th>\n",
       "      <td>0.446557</td>\n",
       "      <td>0.369235</td>\n",
       "      <td>0.663990</td>\n",
       "    </tr>\n",
       "    <tr>\n",
       "      <th>second</th>\n",
       "      <td>0.854172</td>\n",
       "      <td>0.148215</td>\n",
       "      <td>0.694815</td>\n",
       "    </tr>\n",
       "    <tr>\n",
       "      <th>third</th>\n",
       "      <td>0.799244</td>\n",
       "      <td>0.635932</td>\n",
       "      <td>0.526683</td>\n",
       "    </tr>\n",
       "  </tbody>\n",
       "</table>\n",
       "</div>"
      ],
      "text/plain": [
       "               D         E         F\n",
       "first   0.446557  0.369235  0.663990\n",
       "second  0.854172  0.148215  0.694815\n",
       "third   0.799244  0.635932  0.526683"
      ]
     },
     "execution_count": 38,
     "metadata": {},
     "output_type": "execute_result"
    }
   ],
   "source": [
    "# Create a 3x3 dataframe with random values\n",
    "df2 = pd.DataFrame( np.random.rand(3,3))\n",
    "df2.columns = [\"D\",\"E\",\"F\"]\n",
    "df2.index = [\"first\",\"second\",\"third\"]\n",
    "df2"
   ]
  },
  {
   "cell_type": "code",
   "execution_count": 47,
   "metadata": {},
   "outputs": [
    {
     "name": "stdout",
     "output_type": "stream",
     "text": [
      "Data frame df3 is \n",
      "        A  B  C         D         E         F\n",
      "first   0  1  2  0.446557  0.369235  0.663990\n",
      "second  3  4  5  0.854172  0.148215  0.694815\n",
      "third   6  7  8  0.799244  0.635932  0.526683\n",
      "Values in df3 are of the followin type:\n",
      "A      int32\n",
      "B      int32\n",
      "C      int32\n",
      "D    float64\n",
      "E    float64\n",
      "F    float64\n",
      "dtype: object\n"
     ]
    }
   ],
   "source": [
    "# Concatenate the two matrices\n",
    "df3 = pd.concat( [df1,df2], axis=1 )\n",
    "print( \"Data frame df3 is \\n{0}\".format(df3) )\n",
    "# How the values are going to be interpreted\n",
    "print( \"Values in df3 are of the followin type:\\n{0}\".format(df3.dtypes)  )"
   ]
  },
  {
   "cell_type": "code",
   "execution_count": 58,
   "metadata": {},
   "outputs": [
    {
     "data": {
      "text/plain": [
       "first     0.369235\n",
       "second    0.148215\n",
       "third     0.635932\n",
       "Name: E, dtype: float64"
      ]
     },
     "execution_count": 58,
     "metadata": {},
     "output_type": "execute_result"
    }
   ],
   "source": [
    "# We can also get the data for a given column and have them printed by row\n",
    "df3.columns\n",
    "df3[\"E\"]"
   ]
  },
  {
   "cell_type": "code",
   "execution_count": 59,
   "metadata": {},
   "outputs": [
    {
     "data": {
      "text/plain": [
       "A    0.000000\n",
       "B    1.000000\n",
       "C    2.000000\n",
       "D    0.446557\n",
       "E    0.369235\n",
       "F    0.663990\n",
       "Name: first, dtype: float64"
      ]
     },
     "execution_count": 59,
     "metadata": {},
     "output_type": "execute_result"
    }
   ],
   "source": [
    "# We can print alla data for a given row\n",
    "df3.index\n",
    "df3.loc[\"first\"]"
   ]
  },
  {
   "cell_type": "code",
   "execution_count": 61,
   "metadata": {},
   "outputs": [
    {
     "data": {
      "text/plain": [
       "A    0.000000\n",
       "B    1.000000\n",
       "C    2.000000\n",
       "D    0.446557\n",
       "E    0.369235\n",
       "F    0.663990\n",
       "Name: first, dtype: float64"
      ]
     },
     "execution_count": 61,
     "metadata": {},
     "output_type": "execute_result"
    }
   ],
   "source": [
    "# The former could be done in this way too\n",
    "df3.iloc[0]"
   ]
  },
  {
   "cell_type": "code",
   "execution_count": 62,
   "metadata": {},
   "outputs": [
    {
     "name": "stdout",
     "output_type": "stream",
     "text": [
      " Il volume nell'unità C è Windows \n",
      " Numero di serie del volume: E095-69A0\n",
      "\n",
      " Directory di C:\\Users\\SCALASM\\Documents\\Finance\\InvisibleBusiness\\JupyterNotebooks\n",
      "\n",
      "26/03/2020  16:19    <DIR>          .\n",
      "26/03/2020  16:19    <DIR>          ..\n",
      "26/03/2020  16:16    <DIR>          .ipynb_checkpoints\n",
      "26/03/2020  16:19             8.951 Pandas and its types.ipynb\n",
      "               1 File          8.951 byte\n",
      "               3 Directory  876.331.171.840 byte disponibili\n"
     ]
    }
   ],
   "source": [
    "!dir"
   ]
  }
 ],
 "metadata": {
  "kernelspec": {
   "display_name": "Python 3",
   "language": "python",
   "name": "python3"
  },
  "language_info": {
   "codemirror_mode": {
    "name": "ipython",
    "version": 3
   },
   "file_extension": ".py",
   "mimetype": "text/x-python",
   "name": "python",
   "nbconvert_exporter": "python",
   "pygments_lexer": "ipython3",
   "version": "3.7.7"
  }
 },
 "nbformat": 4,
 "nbformat_minor": 4
}
